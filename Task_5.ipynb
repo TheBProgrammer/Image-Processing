{
  "nbformat": 4,
  "nbformat_minor": 0,
  "metadata": {
    "colab": {
      "name": "Task 5.ipynb",
      "provenance": [],
      "authorship_tag": "ABX9TyOKZrEUv59UPQo0xZXx1zOO",
      "include_colab_link": true
    },
    "kernelspec": {
      "name": "python3",
      "display_name": "Python 3"
    },
    "language_info": {
      "name": "python"
    }
  },
  "cells": [
    {
      "cell_type": "markdown",
      "metadata": {
        "id": "view-in-github",
        "colab_type": "text"
      },
      "source": [
        "<a href=\"https://colab.research.google.com/github/TheBProgrammer/Image-Processing/blob/main/Task_5.ipynb\" target=\"_parent\"><img src=\"https://colab.research.google.com/assets/colab-badge.svg\" alt=\"Open In Colab\"/></a>"
      ]
    },
    {
      "cell_type": "code",
      "metadata": {
        "id": "_73M4BZUY_Sv"
      },
      "source": [
        "mylist = [8,3,9,20,27]"
      ],
      "execution_count": 1,
      "outputs": []
    },
    {
      "cell_type": "code",
      "metadata": {
        "id": "C12Eea4NZDNQ"
      },
      "source": [
        "for x in mylist:\n",
        "    x**2"
      ],
      "execution_count": 2,
      "outputs": []
    },
    {
      "cell_type": "code",
      "metadata": {
        "colab": {
          "base_uri": "https://localhost:8080/"
        },
        "id": "NNXN8MzUZDUd",
        "outputId": "7fda4225-1ddb-4945-c0b3-5108c579faba"
      },
      "source": [
        "for x in mylist:\n",
        "    value_squared = x**2\n",
        "print(value_squared)"
      ],
      "execution_count": 3,
      "outputs": [
        {
          "output_type": "stream",
          "name": "stdout",
          "text": [
            "729\n"
          ]
        }
      ]
    },
    {
      "cell_type": "code",
      "metadata": {
        "colab": {
          "base_uri": "https://localhost:8080/"
        },
        "id": "1fvnNqidZDgy",
        "outputId": "5e7bd060-02d3-461b-bfcf-cd87967314ac"
      },
      "source": [
        "for x in mylist:\n",
        "    value_squared = x**2\n",
        "    print(value_squared)"
      ],
      "execution_count": 4,
      "outputs": [
        {
          "output_type": "stream",
          "name": "stdout",
          "text": [
            "64\n",
            "9\n",
            "81\n",
            "400\n",
            "729\n"
          ]
        }
      ]
    },
    {
      "cell_type": "code",
      "metadata": {
        "colab": {
          "base_uri": "https://localhost:8080/"
        },
        "id": "qPvqBMcQZDq6",
        "outputId": "f88fc57a-73e6-4657-e285-d36e5f4bdb53"
      },
      "source": [
        "for x in range(3):\n",
        "    value_squared = mylist[x]**2\n",
        "    print(value_squared)"
      ],
      "execution_count": 5,
      "outputs": [
        {
          "output_type": "stream",
          "name": "stdout",
          "text": [
            "64\n",
            "9\n",
            "81\n"
          ]
        }
      ]
    },
    {
      "cell_type": "code",
      "metadata": {
        "colab": {
          "base_uri": "https://localhost:8080/"
        },
        "id": "ffzy-m1sZD4W",
        "outputId": "27f57445-9b49-4eb3-ce47-f49ce495a4aa"
      },
      "source": [
        "a = 4\n",
        "if a < 2:\n",
        "    print('smaller than 2')\n",
        "elif a < 5:\n",
        "    print('smaller than 5')"
      ],
      "execution_count": 11,
      "outputs": [
        {
          "output_type": "stream",
          "name": "stdout",
          "text": [
            "smaller than 5\n"
          ]
        }
      ]
    },
    {
      "cell_type": "code",
      "metadata": {
        "colab": {
          "base_uri": "https://localhost:8080/"
        },
        "id": "52NHcg5MZPez",
        "outputId": "6ebc0776-e2ea-4cfb-d997-9651f2c7b40f"
      },
      "source": [
        "mylist = [10,5,3,43,32]\n",
        "\n",
        "for x in mylist:\n",
        "    \n",
        "    if x > 10:\n",
        "    \n",
        "        value_squared = x**2\n",
        "        print(value_squared)"
      ],
      "execution_count": 8,
      "outputs": [
        {
          "output_type": "stream",
          "name": "stdout",
          "text": [
            "1849\n",
            "1024\n"
          ]
        }
      ]
    }
  ]
}