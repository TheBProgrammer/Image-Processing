{
  "nbformat": 4,
  "nbformat_minor": 0,
  "metadata": {
    "colab": {
      "name": "Task 6.ipynb",
      "provenance": [],
      "authorship_tag": "ABX9TyMLwNVE2o/5MOVlELlCOhMR",
      "include_colab_link": true
    },
    "kernelspec": {
      "name": "python3",
      "display_name": "Python 3"
    },
    "language_info": {
      "name": "python"
    }
  },
  "cells": [
    {
      "cell_type": "markdown",
      "metadata": {
        "id": "view-in-github",
        "colab_type": "text"
      },
      "source": [
        "<a href=\"https://colab.research.google.com/github/TheBProgrammer/Image-Processing/blob/main/Task_6.ipynb\" target=\"_parent\"><img src=\"https://colab.research.google.com/assets/colab-badge.svg\" alt=\"Open In Colab\"/></a>"
      ]
    },
    {
      "cell_type": "code",
      "metadata": {
        "id": "rt-FqO8ea-mr"
      },
      "source": [
        "import numpy as np\n",
        "import urllib.request\n",
        "urllib.request.urlretrieve('https://raw.githubusercontent.com/guiwitz/PyImageCourse_beginner/master/svg.py', 'svg.py')\n",
        "from svg import numpy_to_svg"
      ],
      "execution_count": 1,
      "outputs": []
    },
    {
      "cell_type": "code",
      "metadata": {
        "id": "cwNZULGFf-1C"
      },
      "source": [
        "myarray = np.zeros((4,6))"
      ],
      "execution_count": 2,
      "outputs": []
    },
    {
      "cell_type": "code",
      "metadata": {
        "colab": {
          "base_uri": "https://localhost:8080/",
          "height": 204
        },
        "id": "eNE3y3C4f-_Q",
        "outputId": "2aba36a7-5e7e-4705-94e1-7cb01e8f7a31"
      },
      "source": [
        "numpy_to_svg(myarray)"
      ],
      "execution_count": 3,
      "outputs": [
        {
          "output_type": "execute_result",
          "data": {
            "text/html": [
              "<svg width=\"250\" height=\"183\" style=\"stroke:rgb(0,0,0);stroke-width:1\" >\n",
              "\n",
              "  <!-- Horizontal lines -->\n",
              "  <line x1=\"0\" y1=\"0\" x2=\"200\" y2=\"0\" style=\"stroke-width:2\" />\n",
              "  <line x1=\"0\" y1=\"33\" x2=\"200\" y2=\"33\" />\n",
              "  <line x1=\"0\" y1=\"66\" x2=\"200\" y2=\"66\" />\n",
              "  <line x1=\"0\" y1=\"100\" x2=\"200\" y2=\"100\" />\n",
              "  <line x1=\"0\" y1=\"133\" x2=\"200\" y2=\"133\" style=\"stroke-width:2\" />\n",
              "\n",
              "  <!-- Vertical lines -->\n",
              "  <line x1=\"0\" y1=\"0\" x2=\"0\" y2=\"133\" style=\"stroke-width:2\" />\n",
              "  <line x1=\"33\" y1=\"0\" x2=\"33\" y2=\"133\" />\n",
              "  <line x1=\"66\" y1=\"0\" x2=\"66\" y2=\"133\" />\n",
              "  <line x1=\"100\" y1=\"0\" x2=\"100\" y2=\"133\" />\n",
              "  <line x1=\"133\" y1=\"0\" x2=\"133\" y2=\"133\" />\n",
              "  <line x1=\"166\" y1=\"0\" x2=\"166\" y2=\"133\" />\n",
              "  <line x1=\"200\" y1=\"0\" x2=\"200\" y2=\"133\" style=\"stroke-width:2\" />\n",
              "\n",
              "  <!-- Colored Rectangle -->\n",
              "  <polygon points=\"0.000000,0.000000 200.000000,0.000000 200.000000,133.333333 0.000000,133.333333\" style=\"fill:#ECB172A0;stroke-width:0\"/>\n",
              "\n",
              "  <!-- Text -->\n",
              "  <text x=\"100.000000\" y=\"153.333333\" font-size=\"1.0rem\" font-weight=\"100\" text-anchor=\"middle\" >6</text>\n",
              "  <text x=\"220.000000\" y=\"66.666667\" font-size=\"1.0rem\" font-weight=\"100\" text-anchor=\"middle\" transform=\"rotate(0,220.000000,66.666667)\">4</text>\n",
              "</svg>"
            ],
            "text/plain": [
              "<IPython.core.display.HTML object>"
            ]
          },
          "metadata": {},
          "execution_count": 3
        }
      ]
    },
    {
      "cell_type": "code",
      "metadata": {
        "colab": {
          "base_uri": "https://localhost:8080/"
        },
        "id": "D-zjXYE2f_Ei",
        "outputId": "24e71901-757d-4f6e-a02c-7d3254d87349"
      },
      "source": [
        "myarray"
      ],
      "execution_count": 4,
      "outputs": [
        {
          "output_type": "execute_result",
          "data": {
            "text/plain": [
              "array([[0., 0., 0., 0., 0., 0.],\n",
              "       [0., 0., 0., 0., 0., 0.],\n",
              "       [0., 0., 0., 0., 0., 0.],\n",
              "       [0., 0., 0., 0., 0., 0.]])"
            ]
          },
          "metadata": {},
          "execution_count": 4
        }
      ]
    },
    {
      "cell_type": "code",
      "metadata": {
        "id": "UIjjqIzlf_Ot"
      },
      "source": [
        "myarray[3,2] = 13"
      ],
      "execution_count": 5,
      "outputs": []
    },
    {
      "cell_type": "code",
      "metadata": {
        "colab": {
          "base_uri": "https://localhost:8080/"
        },
        "id": "LlZ7ip0df_aa",
        "outputId": "44311763-92ca-4eb5-8f11-2d31b0729251"
      },
      "source": [
        "np.arange(0,30,3)"
      ],
      "execution_count": 6,
      "outputs": [
        {
          "output_type": "execute_result",
          "data": {
            "text/plain": [
              "array([ 0,  3,  6,  9, 12, 15, 18, 21, 24, 27])"
            ]
          },
          "metadata": {},
          "execution_count": 6
        }
      ]
    },
    {
      "cell_type": "code",
      "metadata": {
        "colab": {
          "base_uri": "https://localhost:8080/"
        },
        "id": "Szc9j9F7f_ra",
        "outputId": "f18b5657-b71e-4bc1-806a-4d05546428f8"
      },
      "source": [
        "myarray = myarray + 32\n",
        "myarray"
      ],
      "execution_count": 7,
      "outputs": [
        {
          "output_type": "execute_result",
          "data": {
            "text/plain": [
              "array([[32., 32., 32., 32., 32., 32.],\n",
              "       [32., 32., 32., 32., 32., 32.],\n",
              "       [32., 32., 32., 32., 32., 32.],\n",
              "       [32., 32., 45., 32., 32., 32.]])"
            ]
          },
          "metadata": {},
          "execution_count": 7
        }
      ]
    },
    {
      "cell_type": "code",
      "metadata": {
        "id": "LfqI0v4Of_v9"
      },
      "source": [
        "for x in range(4):\n",
        "    for y in range(6):\n",
        "        myarray[x,y] = myarray[x,y] + 15"
      ],
      "execution_count": 8,
      "outputs": []
    },
    {
      "cell_type": "code",
      "metadata": {
        "colab": {
          "base_uri": "https://localhost:8080/"
        },
        "id": "XKXjdgiif_yh",
        "outputId": "7c9c556f-c4cf-4614-eaec-c59011ba8c18"
      },
      "source": [
        "myarray"
      ],
      "execution_count": 9,
      "outputs": [
        {
          "output_type": "execute_result",
          "data": {
            "text/plain": [
              "array([[47., 47., 47., 47., 47., 47.],\n",
              "       [47., 47., 47., 47., 47., 47.],\n",
              "       [47., 47., 47., 47., 47., 47.],\n",
              "       [47., 47., 60., 47., 47., 47.]])"
            ]
          },
          "metadata": {},
          "execution_count": 9
        }
      ]
    },
    {
      "cell_type": "code",
      "metadata": {
        "colab": {
          "base_uri": "https://localhost:8080/"
        },
        "id": "61IKn62pgblV",
        "outputId": "ec729522-f0e0-43f5-a0ae-78f5830e98af"
      },
      "source": [
        "myarray1 = 2*np.ones((4,4))\n",
        "myarray2 = 5*np.ones((4,4))\n",
        "myarray3 = myarray1 * myarray2\n",
        "myarray3"
      ],
      "execution_count": 10,
      "outputs": [
        {
          "output_type": "execute_result",
          "data": {
            "text/plain": [
              "array([[10., 10., 10., 10.],\n",
              "       [10., 10., 10., 10.],\n",
              "       [10., 10., 10., 10.],\n",
              "       [10., 10., 10., 10.]])"
            ]
          },
          "metadata": {},
          "execution_count": 10
        }
      ]
    },
    {
      "cell_type": "code",
      "metadata": {
        "colab": {
          "base_uri": "https://localhost:8080/",
          "height": 171
        },
        "id": "gsegmPTBgbYQ",
        "outputId": "4d70c60e-07a7-4bb4-a083-c0164fc13005"
      },
      "source": [
        "myarray = np.ones((5,10))\n",
        "numpy_to_svg(myarray)"
      ],
      "execution_count": 11,
      "outputs": [
        {
          "output_type": "execute_result",
          "data": {
            "text/html": [
              "<svg width=\"250\" height=\"150\" style=\"stroke:rgb(0,0,0);stroke-width:1\" >\n",
              "\n",
              "  <!-- Horizontal lines -->\n",
              "  <line x1=\"0\" y1=\"0\" x2=\"200\" y2=\"0\" style=\"stroke-width:2\" />\n",
              "  <line x1=\"0\" y1=\"20\" x2=\"200\" y2=\"20\" />\n",
              "  <line x1=\"0\" y1=\"40\" x2=\"200\" y2=\"40\" />\n",
              "  <line x1=\"0\" y1=\"60\" x2=\"200\" y2=\"60\" />\n",
              "  <line x1=\"0\" y1=\"80\" x2=\"200\" y2=\"80\" />\n",
              "  <line x1=\"0\" y1=\"100\" x2=\"200\" y2=\"100\" style=\"stroke-width:2\" />\n",
              "\n",
              "  <!-- Vertical lines -->\n",
              "  <line x1=\"0\" y1=\"0\" x2=\"0\" y2=\"100\" style=\"stroke-width:2\" />\n",
              "  <line x1=\"20\" y1=\"0\" x2=\"20\" y2=\"100\" />\n",
              "  <line x1=\"40\" y1=\"0\" x2=\"40\" y2=\"100\" />\n",
              "  <line x1=\"60\" y1=\"0\" x2=\"60\" y2=\"100\" />\n",
              "  <line x1=\"80\" y1=\"0\" x2=\"80\" y2=\"100\" />\n",
              "  <line x1=\"100\" y1=\"0\" x2=\"100\" y2=\"100\" />\n",
              "  <line x1=\"120\" y1=\"0\" x2=\"120\" y2=\"100\" />\n",
              "  <line x1=\"140\" y1=\"0\" x2=\"140\" y2=\"100\" />\n",
              "  <line x1=\"160\" y1=\"0\" x2=\"160\" y2=\"100\" />\n",
              "  <line x1=\"180\" y1=\"0\" x2=\"180\" y2=\"100\" />\n",
              "  <line x1=\"200\" y1=\"0\" x2=\"200\" y2=\"100\" style=\"stroke-width:2\" />\n",
              "\n",
              "  <!-- Colored Rectangle -->\n",
              "  <polygon points=\"0.000000,0.000000 200.000000,0.000000 200.000000,100.000000 0.000000,100.000000\" style=\"fill:#ECB172A0;stroke-width:0\"/>\n",
              "\n",
              "  <!-- Text -->\n",
              "  <text x=\"100.000000\" y=\"120.000000\" font-size=\"1.0rem\" font-weight=\"100\" text-anchor=\"middle\" >10</text>\n",
              "  <text x=\"220.000000\" y=\"50.000000\" font-size=\"1.0rem\" font-weight=\"100\" text-anchor=\"middle\" transform=\"rotate(0,220.000000,50.000000)\">5</text>\n",
              "</svg>"
            ],
            "text/plain": [
              "<IPython.core.display.HTML object>"
            ]
          },
          "metadata": {},
          "execution_count": 11
        }
      ]
    },
    {
      "cell_type": "code",
      "metadata": {
        "colab": {
          "base_uri": "https://localhost:8080/"
        },
        "id": "BPH5248PgbO1",
        "outputId": "c6a0fc5d-45b6-45c3-c66f-197937aaccb2"
      },
      "source": [
        "myarray.sum()"
      ],
      "execution_count": 12,
      "outputs": [
        {
          "output_type": "execute_result",
          "data": {
            "text/plain": [
              "50.0"
            ]
          },
          "metadata": {},
          "execution_count": 12
        }
      ]
    },
    {
      "cell_type": "code",
      "metadata": {
        "colab": {
          "base_uri": "https://localhost:8080/"
        },
        "id": "nn75T_KhgjcM",
        "outputId": "01e349ec-ab91-4976-887f-9cc28ffdf38b"
      },
      "source": [
        "myarray = np.zeros((4,4))\n",
        "myarray[2,3] = 1\n",
        "myarray"
      ],
      "execution_count": 13,
      "outputs": [
        {
          "output_type": "execute_result",
          "data": {
            "text/plain": [
              "array([[0., 0., 0., 0.],\n",
              "       [0., 0., 0., 0.],\n",
              "       [0., 0., 0., 1.],\n",
              "       [0., 0., 0., 0.]])"
            ]
          },
          "metadata": {},
          "execution_count": 13
        }
      ]
    },
    {
      "cell_type": "code",
      "metadata": {
        "colab": {
          "base_uri": "https://localhost:8080/"
        },
        "id": "RensAnCxgjmn",
        "outputId": "e772c7b9-62f8-4e9b-e975-c3c1685097a9"
      },
      "source": [
        "myarray > 0"
      ],
      "execution_count": 14,
      "outputs": [
        {
          "output_type": "execute_result",
          "data": {
            "text/plain": [
              "array([[False, False, False, False],\n",
              "       [False, False, False, False],\n",
              "       [False, False, False,  True],\n",
              "       [False, False, False, False]])"
            ]
          },
          "metadata": {},
          "execution_count": 14
        }
      ]
    }
  ]
}